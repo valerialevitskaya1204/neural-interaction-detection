{
 "cells": [
  {
   "cell_type": "markdown",
   "metadata": {},
   "source": [
    "# Experiments"
   ]
  },
  {
   "cell_type": "markdown",
   "metadata": {},
   "source": [
    "# from paper"
   ]
  },
  {
   "cell_type": "code",
   "execution_count": 1,
   "metadata": {},
   "outputs": [
    {
     "name": "stdout",
     "output_type": "stream",
     "text": [
      "starting to train\n",
      "early stopping enabled\n",
      "[epoch 1, total 100] train loss: 0.2807, val loss: 0.0500\n",
      "[epoch 3, total 100] train loss: 0.0310, val loss: 0.0255\n",
      "[epoch 5, total 100] train loss: 0.0271, val loss: 0.0241\n",
      "[epoch 7, total 100] train loss: 0.0222, val loss: 0.0220\n",
      "[epoch 9, total 100] train loss: 0.0149, val loss: 0.0161\n",
      "[epoch 11, total 100] train loss: 0.0129, val loss: 0.0163\n",
      "[epoch 13, total 100] train loss: 0.0085, val loss: 0.0140\n",
      "[epoch 15, total 100] train loss: 0.0090, val loss: 0.0097\n",
      "[epoch 17, total 100] train loss: 0.0090, val loss: 0.0280\n",
      "early stopping!\n",
      "Finished Training. Test loss:  0.006187031976878643\n"
     ]
    }
   ],
   "source": [
    "from src.utils import print_rankings\n",
    "from src.experiments.run_experiments_new import get_results\n",
    "\n",
    "\n",
    "pairwise_interactions, anyorder_interactions, auc, r_prec = get_results()"
   ]
  },
  {
   "cell_type": "code",
   "execution_count": 2,
   "metadata": {},
   "outputs": [
    {
     "name": "stdout",
     "output_type": "stream",
     "text": [
      "Pairwise AUC 0.9857142857142858 , Any-order R-Precision 1.0\n",
      "Pairwise interactions              Arbitrary-order interactions\n",
      "(1, 2)        9.9968                      (1, 2)        8.2607        \n",
      "(1, 4)        4.4590                      (1, 4)        2.6184        \n",
      "(4, 8)        3.5143                      (2, 3)        1.6423        \n",
      "(5, 7)        3.0359                      (4, 8)        1.3753        \n",
      "(7, 8)        2.8863                      (5, 7)        1.1623        \n",
      "(4, 7)        2.8249                      (4, 7)        1.0639        \n",
      "(5, 8)        2.7967                      (4, 5)        1.0597        \n",
      "(4, 5)        2.7314                      (7, 8)        1.0089        \n",
      "(2, 3)        2.3467                      (4, 5, 7, 8)  0.9965        \n",
      "(1, 8)        2.0830                      (3, 4)        0.9294        \n",
      "None\n"
     ]
    }
   ],
   "source": [
    "print(\"Pairwise AUC\", auc, \", Any-order R-Precision\", r_prec)\n",
    "print(\n",
    "    print_rankings(pairwise_interactions, anyorder_interactions, top_k=10, spacing=14)\n",
    "    )"
   ]
  }
 ],
 "metadata": {
  "kernelspec": {
   "display_name": ".venv",
   "language": "python",
   "name": "python3"
  },
  "language_info": {
   "codemirror_mode": {
    "name": "ipython",
    "version": 3
   },
   "file_extension": ".py",
   "mimetype": "text/x-python",
   "name": "python",
   "nbconvert_exporter": "python",
   "pygments_lexer": "ipython3",
   "version": "3.10.12"
  }
 },
 "nbformat": 4,
 "nbformat_minor": 2
}
